{
 "cells": [
  {
   "cell_type": "code",
   "execution_count": 3,
   "metadata": {},
   "outputs": [
    {
     "name": "stdout",
     "output_type": "stream",
     "text": [
      "processing image...\n",
      " \n",
      "\n",
      " \n",
      "\n",
      "ee Sy\n",
      "\n",
      "aan\n",
      "7\n",
      "13\n",
      "a5\n",
      "lB)\n",
      "16\n",
      "ai\n",
      "a)\n",
      "19\n",
      "yi\n",
      "21\n",
      "ye\n",
      "23\n",
      "yy\n",
      "25\n",
      "yA)\n",
      "\n",
      "import azureml.core\n",
      "\n",
      "from azureml.core import Workspace\n",
      "\n",
      "from sklearn.model_selection import train_test_split\n",
      "from sklearn.linear_model import LinearRegression\n",
      "\n",
      "from sklearn.metrics import mean_squared_error, r2_score\n",
      "import matplotlib.pyplot as plt\n",
      "\n",
      "from abc import ABC, abstractmethod\n",
      "\n",
      "class DataLoader(ABC):\n",
      "“\"\"Classe abstrata que contém operacées de um carregador de dados.\"\"\"\n",
      "@abstractmethod\n",
      "def dataset(self):\n",
      "\"\"\"mMétodo que retorna um dataset.\n",
      "pass\n",
      "\n",
      "class DataLoaderFromWorkspace(DataLoader):\n",
      "def __init__(self,workspace,dataset_name):\n",
      "self.__dataset = workspace.datasets.get(dataset_name)\n",
      "\n",
      "def dataset(self):\n",
      "return self.__dataset\n",
      "\f\n"
     ]
    }
   ],
   "source": [
    "from PIL import Image\n",
    "import pytesseract\n",
    "#pytesseract.pytesseract.tesseract_cmd = r'C:\\Program Files\\Tesseract-OCR\\tesseract.exe'\n"
   ]
  },
  {
   "cell_type": "code",
   "execution_count": 12,
   "metadata": {},
   "outputs": [
    {
     "name": "stdout",
     "output_type": "stream",
     "text": [
      "['Screenshot from 2023-07-04 12-49-16.png', 'Screenshot from 2023-07-04 12-50-19.png', 'Screenshot from 2023-07-04 13-15-53.png', 'Screenshot from 2023-07-04 13-16-04.png', 'Screenshot from 2023-07-04 13-16-23.png', 'Screenshot from 2023-07-04 13-16-36.png', 'Screenshot from 2023-07-04 13-16-49.png', 'Screenshot from 2023-07-04 13-17-47.png', 'Screenshot from 2023-07-04 13-23-01.png', 'Screenshot from 2023-07-04 13-23-45.png', 'Screenshot from 2023-07-04 13-23-56.png', 'Screenshot from 2023-07-04 13-24-35.png', 'Screenshot from 2023-07-04 13-24-53.png', 'Screenshot from 2023-07-04 13-25-08.png', 'Screenshot from 2023-07-04 13-25-25.png', 'Screenshot from 2023-07-04 13-25-42.png', 'Screenshot from 2023-07-04 13-25-54.png']\n"
     ]
    }
   ],
   "source": [
    "import os\n",
    "\n",
    "directory_path = '/home/eduardo/Pictures/Screenshots/project/'\n",
    "\n",
    "def print_files_in_directory(directory):\n",
    "    list = []\n",
    "    for filename in os.listdir(directory):\n",
    "        if os.path.isfile(os.path.join(directory, filename)):\n",
    "            list.append(filename)\n",
    "    list.sort()\n",
    "    return list\n",
    "\n",
    "# Specify the directory path\n",
    "\n",
    "\n",
    "# Call the function to print the files in the directory\n",
    "list = print_files_in_directory(directory_path)\n",
    "print(list)\n"
   ]
  },
  {
   "cell_type": "code",
   "execution_count": 20,
   "metadata": {},
   "outputs": [
    {
     "name": "stdout",
     "output_type": "stream",
     "text": [
      " \n",
      "\n",
      " \n",
      "\n",
      " \n",
      "\n",
      "1 class Controller():\n",
      "Fa Chere nore ms cate eon Ca\n",
      "\n",
      "3\n",
      "\n",
      "4 def __init_(self,datatoader:DataLoader ,preProcessor:PreProcessor model: Model, evaluator: Evaluator, plotter: Plotter):\n",
      "5 Sipe ee\n",
      "\n",
      "a ae ete cae\n",
      "\n",
      "7 ee ee\n",
      "\n",
      "A Pee ree\n",
      "\n",
      "py Perea cc er este\n",
      "\n",
      "ty\n",
      "\n",
      "11 def run(self):\n",
      "\n",
      "2 Peer ts:\n",
      "\n",
      "B Cer eee eee e Ret eee)\n",
      "\n",
      "1 eects\n",
      "\n",
      "1s PRUE RCS RCN Ree ner Cee)\n",
      "16 eres morertg\n",
      "\n",
      "a cree Remo Umea)\n",
      "\n",
      "ry Boe ear tas\n",
      "\n",
      "19 predictions = self. _model.predict(x_test)\n",
      "\n",
      "20 eesti t\n",
      "\n",
      "2 ree CeO mea sc)\n",
      "\n",
      "22 #Plot\n",
      "\n",
      "Fry PE pee CCN SCC a estas CLS)\n",
      "\n",
      "24\n",
      "\f\n"
     ]
    }
   ],
   "source": [
    "image = Image.open(os.path.join(directory_path,list[5]))\n",
    "text = pytesseract.image_to_string(image)\n",
    "print(text)"
   ]
  }
 ],
 "metadata": {
  "kernelspec": {
   "display_name": "Python 3",
   "language": "python",
   "name": "python3"
  },
  "language_info": {
   "codemirror_mode": {
    "name": "ipython",
    "version": 3
   },
   "file_extension": ".py",
   "mimetype": "text/x-python",
   "name": "python",
   "nbconvert_exporter": "python",
   "pygments_lexer": "ipython3",
   "version": "3.8.13"
  },
  "orig_nbformat": 4
 },
 "nbformat": 4,
 "nbformat_minor": 2
}
